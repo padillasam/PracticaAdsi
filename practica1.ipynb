{
  "nbformat": 4,
  "nbformat_minor": 0,
  "metadata": {
    "colab": {
      "name": "practica1.ipynb",
      "provenance": [],
      "collapsed_sections": [],
      "toc_visible": true,
      "include_colab_link": true
    },
    "kernelspec": {
      "display_name": "Python 3",
      "language": "python",
      "name": "python3"
    },
    "language_info": {
      "codemirror_mode": {
        "name": "ipython",
        "version": 3
      },
      "file_extension": ".py",
      "mimetype": "text/x-python",
      "name": "python",
      "nbconvert_exporter": "python",
      "pygments_lexer": "ipython3",
      "version": "3.7.6"
    }
  },
  "cells": [
    {
      "cell_type": "markdown",
      "metadata": {
        "id": "view-in-github",
        "colab_type": "text"
      },
      "source": [
        "<a href=\"https://colab.research.google.com/github/padillasam/PracticaAdsi/blob/master/practica1.ipynb\" target=\"_parent\"><img src=\"https://colab.research.google.com/assets/colab-badge.svg\" alt=\"Open In Colab\"/></a>"
      ]
    },
    {
      "cell_type": "markdown",
      "metadata": {
        "id": "vC7szrajF2xo"
      },
      "source": [
        "# Práctica 1\n",
        "\n",
        "Los siguientes ejercicios tienen dos objetivos:\n",
        " \n",
        "1. Verificar que todo haya quedado correctamente instalado\n",
        "2. Practicar de manera breve lo aprendido hasta ahora\n",
        " "
      ]
    },
    {
      "cell_type": "markdown",
      "metadata": {
        "id": "vKN065gkF2xr"
      },
      "source": [
        "#  Ejercicio 1\n",
        "\n",
        "Defina un entero $a$"
      ]
    },
    {
      "cell_type": "code",
      "metadata": {
        "id": "fmhwFEwZF2xu",
        "colab": {
          "base_uri": "https://localhost:8080/",
          "height": 35
        },
        "outputId": "b899edc7-1d5d-4623-99c3-cb0a4c56ca6b"
      },
      "source": [
        " a=15.5\n",
        "print(a)"
      ],
      "execution_count": null,
      "outputs": [
        {
          "output_type": "stream",
          "text": [
            "15.5\n"
          ],
          "name": "stdout"
        }
      ]
    },
    {
      "cell_type": "markdown",
      "metadata": {
        "id": "ZtujN3yYF2x-"
      },
      "source": [
        "#  Ejercicio 2\n",
        "\n",
        "Defina una lista $L1$ que contenga cuatro valores enteros"
      ]
    },
    {
      "cell_type": "code",
      "metadata": {
        "id": "B1EMfu1qF2yA",
        "colab": {
          "base_uri": "https://localhost:8080/",
          "height": 35
        },
        "outputId": "5b2f126a-db3e-4031-bdef-071f0af25cd4"
      },
      "source": [
        "milista=[10,20,30,40]\n",
        "print(milista)"
      ],
      "execution_count": null,
      "outputs": [
        {
          "output_type": "stream",
          "text": [
            "[10, 20, 30, 40]\n"
          ],
          "name": "stdout"
        }
      ]
    },
    {
      "cell_type": "markdown",
      "metadata": {
        "id": "DJ8u8FU0F2yI"
      },
      "source": [
        "#  Ejercicio 3\n",
        "\n",
        "Inserte el valor de $a$ en la úlltima posición de $L1$"
      ]
    },
    {
      "cell_type": "code",
      "metadata": {
        "id": "-SuQfX-6F2yL",
        "colab": {
          "base_uri": "https://localhost:8080/",
          "height": 35
        },
        "outputId": "cf58dc99-10ab-4b1c-e7dd-f11ae0cb9fa1"
      },
      "source": [
        "milista[-1]=a\n",
        "print(milista)"
      ],
      "execution_count": null,
      "outputs": [
        {
          "output_type": "stream",
          "text": [
            "[10, 20, 30, 15.5]\n"
          ],
          "name": "stdout"
        }
      ]
    },
    {
      "cell_type": "markdown",
      "metadata": {
        "id": "vB8SBLp0F2yS"
      },
      "source": [
        "#  Ejercicio 4\n",
        "\n",
        "Defina una lista $L2$ que contenga cuatro valores reales"
      ]
    },
    {
      "cell_type": "code",
      "metadata": {
        "id": "HDRxcR9YF2yU",
        "colab": {
          "base_uri": "https://localhost:8080/",
          "height": 35
        },
        "outputId": "c24ab93a-31f6-408b-bdca-29994f00da89"
      },
      "source": [
        "reales=[1.5, 2.5, 3.5,4.5]\n",
        "print(reales)"
      ],
      "execution_count": null,
      "outputs": [
        {
          "output_type": "stream",
          "text": [
            "[1.5, 2.5, 3.5, 4.5]\n"
          ],
          "name": "stdout"
        }
      ]
    },
    {
      "cell_type": "markdown",
      "metadata": {
        "id": "H_etMaBmF2yb"
      },
      "source": [
        "#  Ejercicio 5\n",
        "\n",
        "Cree una función de usuario que cumpla con esto:\n",
        "- entradas: listas $L1$, $L2$\n",
        "- salidas: diccionario $d$ que contiene las listas $L1$, $L2$\n",
        "Las claves (keys) del  diccionario pueden tener cualquier valor."
      ]
    },
    {
      "cell_type": "code",
      "metadata": {
        "id": "EKFUt2DrF2ye",
        "colab": {
          "base_uri": "https://localhost:8080/",
          "height": 35
        },
        "outputId": "1f501418-4b6d-48c0-d79a-6f2acd785fce"
      },
      "source": [
        "d={'a':milista,'b':reales}\n",
        "print(d)"
      ],
      "execution_count": null,
      "outputs": [
        {
          "output_type": "stream",
          "text": [
            "{'a': [10, 20, 30, 15.5], 'b': [1.5, 2.5, 3.5, 4.5]}\n"
          ],
          "name": "stdout"
        }
      ]
    },
    {
      "cell_type": "markdown",
      "metadata": {
        "id": "cRVviKfZF2ym"
      },
      "source": [
        "#  Práctica 2"
      ]
    },
    {
      "cell_type": "markdown",
      "metadata": {
        "id": "baifVa8YF2yo"
      },
      "source": [
        "#  Ejercicio 6\n",
        "\n",
        "Ahora defina las listas $L1$ y $L2$ de diferente tamaño e incluyendo en cada una valores enteros, reales y cadenas de caracteres (strings)"
      ]
    },
    {
      "cell_type": "code",
      "metadata": {
        "id": "9EGJ3d1KF2yp",
        "colab": {
          "base_uri": "https://localhost:8080/",
          "height": 53
        },
        "outputId": "0cb4e61b-cf72-410c-c53e-faaa26c46b36"
      },
      "source": [
        "L1=[1,2,3,1.5,1.2,1.3,\"samuel\",\"ricardo\",\"padilla\"]\n",
        "L2=[10,20,30,10.5,10.2,10.3,\"sam\",\"ric\",\"pad\",3,2,1]\n",
        "print(L1)\n",
        "print(L2)"
      ],
      "execution_count": null,
      "outputs": [
        {
          "output_type": "stream",
          "text": [
            "[1, 2, 3, 1.5, 1.2, 1.3, 'samuel', 'ricardo', 'padilla']\n",
            "[10, 20, 30, 10.5, 10.2, 10.3, 'sam', 'ric', 'pad', 3, 2, 1]\n"
          ],
          "name": "stdout"
        }
      ]
    },
    {
      "cell_type": "markdown",
      "metadata": {
        "id": "ppa8Ll5VF2yv"
      },
      "source": [
        "#  Ejercicio 7\n",
        "\n",
        "Escriba una función que tome las listas del numeral anterior y entregue la suma de los valores reales de cada lista. La función debe entregar dos valores, uno por cada lista."
      ]
    },
    {
      "cell_type": "code",
      "metadata": {
        "id": "MQ5myBulF2yw"
      },
      "source": [
        "def sumaReales(L):\n",
        "  for n in L\n",
        "  "
      ],
      "execution_count": null,
      "outputs": []
    },
    {
      "cell_type": "markdown",
      "metadata": {
        "id": "0fzAqTvqF2y3"
      },
      "source": [
        "#  Ejercicio 8\n",
        "\n",
        "Repita el ejercicio 7, pero esta vez para valores enteros."
      ]
    },
    {
      "cell_type": "code",
      "metadata": {
        "id": "VaCKNkUHF2y4"
      },
      "source": [
        ""
      ],
      "execution_count": null,
      "outputs": []
    },
    {
      "cell_type": "markdown",
      "metadata": {
        "id": "zAsORT9eF2y_"
      },
      "source": [
        "#  Ejercicio 9\n",
        "\n",
        "Escriba una función general, que permita escoger si se quiere encontrar la suma de valores enteros o reales (de las mismas listas anteriores). La decisión se toma en base a un parámetro adicional que le debe entrar a la función."
      ]
    },
    {
      "cell_type": "code",
      "metadata": {
        "id": "AOxVflnLF2zA"
      },
      "source": [
        ""
      ],
      "execution_count": null,
      "outputs": []
    }
  ]
}